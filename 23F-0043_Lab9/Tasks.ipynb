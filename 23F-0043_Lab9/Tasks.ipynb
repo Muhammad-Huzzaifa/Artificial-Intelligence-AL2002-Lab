{
 "cells": [
  {
   "cell_type": "code",
   "execution_count": 1,
   "id": "cc838644",
   "metadata": {},
   "outputs": [],
   "source": [
    "import sys\n",
    "import os\n",
    "\n",
    "parent_dir = os.path.abspath(os.path.join(os.getcwd(), '..'))\n",
    "sys.path.append(parent_dir)\n",
    "sys.path.append(os.path.join(parent_dir, 'aima'))\n",
    "\n",
    "from aima.logic import *"
   ]
  },
  {
   "cell_type": "markdown",
   "id": "cf6d72c8",
   "metadata": {},
   "source": [
    "## Problem 1 | Propositional Logic"
   ]
  },
  {
   "cell_type": "code",
   "execution_count": 2,
   "id": "d20504a5",
   "metadata": {},
   "outputs": [
    {
     "name": "stdout",
     "output_type": "stream",
     "text": [
      "P\tQ\tP & Q\tP | Q\tP ==> Q\tP <=> Q\n",
      "True\tTrue\tTrue\tTrue\tTrue\tTrue\n",
      "True\tFalse\tFalse\tTrue\tFalse\tFalse\n",
      "False\tTrue\tFalse\tTrue\tTrue\tFalse\n",
      "False\tFalse\tFalse\tFalse\tTrue\tTrue\n"
     ]
    }
   ],
   "source": [
    "P = expr('P')\n",
    "Q = expr('Q')\n",
    "\n",
    "expr_and = expr('P & Q')\n",
    "expr_or = expr('P | Q')\n",
    "expr_implies = expr('P ==> Q')\n",
    "expr_bimplies = expr('P <=> Q')\n",
    "\n",
    "models = [\n",
    "    {P: True, Q: True},\n",
    "    {P: True, Q: False},\n",
    "    {P: False, Q: True},\n",
    "    {P: False, Q: False}\n",
    "]\n",
    "\n",
    "print('P\\tQ\\tP & Q\\tP | Q\\tP ==> Q\\tP <=> Q')\n",
    "for model in models:\n",
    "    print(f'{model[P]}\\t{model[Q]}\\t{pl_true(expr_and, model)}\\t{pl_true(expr_or, model)}\\t{pl_true(expr_implies, model)}\\t{pl_true(expr_bimplies, model)}')"
   ]
  },
  {
   "cell_type": "markdown",
   "id": "a40e4c97",
   "metadata": {},
   "source": [
    "## Problem2 | Proof by Resolution"
   ]
  },
  {
   "cell_type": "code",
   "execution_count": 3,
   "id": "06c0528e",
   "metadata": {},
   "outputs": [
    {
     "data": {
      "text/plain": [
       "False"
      ]
     },
     "execution_count": 3,
     "metadata": {},
     "output_type": "execute_result"
    }
   ],
   "source": [
    "exp = to_cnf(expr('(P | Q) & (~P | R) & (~R | S)'))\n",
    "query = expr('Q & S')\n",
    "\n",
    "kb = PropKB()\n",
    "kb.tell(exp)\n",
    "\n",
    "pl_resolution(kb, query)"
   ]
  },
  {
   "cell_type": "markdown",
   "id": "158daf20",
   "metadata": {},
   "source": [
    "## Problem 3 | Wumpus World (Proof by Resolution)"
   ]
  },
  {
   "cell_type": "code",
   "execution_count": 4,
   "id": "4ff0266c",
   "metadata": {},
   "outputs": [
    {
     "data": {
      "text/plain": [
       "(False, False)"
      ]
     },
     "execution_count": 4,
     "metadata": {},
     "output_type": "execute_result"
    }
   ],
   "source": [
    "wumpus = PropKB()\n",
    "\n",
    "P11, P21, P31, P12, P22 = expr('P11, P21, P31, P12, P22')\n",
    "W11, W12, W13, W21, W22 = expr('W11, W12, W13, W21, W22')\n",
    "B11, B21 = expr('B11, B21')\n",
    "S11, S12 = expr('S11, S12')\n",
    "\n",
    "wumpus.tell(~P11)\n",
    "wumpus.tell(~W11)\n",
    "wumpus.tell(~B11)\n",
    "wumpus.tell(~S11)\n",
    "wumpus.tell(B21)\n",
    "wumpus.tell(S12)\n",
    "wumpus.tell(B11 | '<=>' | ((P12 | P21)))\n",
    "wumpus.tell(B21 | '<=>' | ((P11 | P22 | P31)))\n",
    "wumpus.tell(S11 | '<=>' | ((W12 | W21)))\n",
    "wumpus.tell(S12 | '<=>' | ((W13 | W22 | W11)))\n",
    "\n",
    "wumpus.ask_if_true(P22), wumpus.ask_if_true(W22)"
   ]
  }
 ],
 "metadata": {
  "kernelspec": {
   "display_name": ".venv",
   "language": "python",
   "name": "python3"
  },
  "language_info": {
   "codemirror_mode": {
    "name": "ipython",
    "version": 3
   },
   "file_extension": ".py",
   "mimetype": "text/x-python",
   "name": "python",
   "nbconvert_exporter": "python",
   "pygments_lexer": "ipython3",
   "version": "3.13.1"
  }
 },
 "nbformat": 4,
 "nbformat_minor": 5
}
