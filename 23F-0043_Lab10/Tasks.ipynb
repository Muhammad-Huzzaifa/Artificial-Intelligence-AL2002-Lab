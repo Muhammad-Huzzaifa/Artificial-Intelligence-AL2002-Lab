{
 "cells": [
  {
   "cell_type": "code",
   "execution_count": 1,
   "id": "9602167f",
   "metadata": {},
   "outputs": [],
   "source": [
    "import sys\n",
    "import os\n",
    "\n",
    "parent_dir = os.path.abspath(os.path.join(os.getcwd(), '..'))\n",
    "sys.path.append(os.path.join(parent_dir, 'aima'))\n",
    "\n",
    "from logic import *"
   ]
  },
  {
   "cell_type": "markdown",
   "id": "b03cb5a7",
   "metadata": {},
   "source": [
    "## Problem 1 | Resolution with Refutation"
   ]
  },
  {
   "cell_type": "code",
   "execution_count": 2,
   "id": "20baea43",
   "metadata": {},
   "outputs": [
    {
     "data": {
      "text/plain": [
       "((~A | D | ~C) & (~B | D | ~C))"
      ]
     },
     "execution_count": 2,
     "metadata": {},
     "output_type": "execute_result"
    }
   ],
   "source": [
    "to_cnf(expr('(A | B) ==> (C ==> D)'))"
   ]
  },
  {
   "cell_type": "code",
   "execution_count": 3,
   "id": "e248bc2f",
   "metadata": {},
   "outputs": [
    {
     "data": {
      "text/plain": [
       "True"
      ]
     },
     "execution_count": 3,
     "metadata": {},
     "output_type": "execute_result"
    }
   ],
   "source": [
    "_1 = to_cnf(expr('A | B'))\n",
    "_2 = to_cnf(expr('A ==> C'))\n",
    "_3 = to_cnf(expr('B ==> C'))\n",
    "_4 = to_cnf(expr('~C'))\n",
    "\n",
    "kb = PropKB()\n",
    "kb.tell(_1)\n",
    "kb.tell(_2)\n",
    "kb.tell(_3)\n",
    "kb.tell(_4)\n",
    "\n",
    "kb.ask_if_true(expr('C'))"
   ]
  },
  {
   "cell_type": "code",
   "execution_count": 4,
   "id": "13565045",
   "metadata": {},
   "outputs": [
    {
     "data": {
      "text/plain": [
       "True"
      ]
     },
     "execution_count": 4,
     "metadata": {},
     "output_type": "execute_result"
    }
   ],
   "source": [
    "_1 = to_cnf(expr('(A ==> B) ==> B'))\n",
    "_2 = to_cnf(expr('A ==> C'))\n",
    "_3 = to_cnf(expr('~C ==> ~B'))\n",
    "_4 = to_cnf(expr('~C'))\n",
    "\n",
    "kb = PropKB()\n",
    "kb.tell(_1)\n",
    "kb.tell(_2)\n",
    "kb.tell(_3)\n",
    "kb.tell(_4)\n",
    "\n",
    "kb.ask_if_true(expr('C'))"
   ]
  },
  {
   "cell_type": "markdown",
   "id": "cb669937",
   "metadata": {},
   "source": [
    "## Problem 2 | Running Solved Examples\n",
    "1) If either C173 or C220 is required, then all students will take computer science. C173 and C240 are required. Prove that all students will take computer science."
   ]
  },
  {
   "cell_type": "code",
   "execution_count": 5,
   "id": "a8bb1e9e",
   "metadata": {},
   "outputs": [
    {
     "data": {
      "text/plain": [
       "True"
      ]
     },
     "execution_count": 5,
     "metadata": {},
     "output_type": "execute_result"
    }
   ],
   "source": [
    "kb = PropKB()\n",
    "\n",
    "kb.tell(expr('C173 | C220 ==> ACS'))\n",
    "kb.tell(expr('C173'))\n",
    "kb.tell(expr('C240'))\n",
    "\n",
    "kb.ask_if_true(expr('ACS'))"
   ]
  },
  {
   "cell_type": "markdown",
   "id": "b4e6ebee",
   "metadata": {},
   "source": [
    "2. All humans are mortal, Socrates is human, We want to prove that Socrates is mortal."
   ]
  },
  {
   "cell_type": "code",
   "execution_count": 6,
   "id": "b23be6fa",
   "metadata": {},
   "outputs": [
    {
     "data": {
      "text/plain": [
       "([{x: Socrates}], True)"
      ]
     },
     "execution_count": 6,
     "metadata": {},
     "output_type": "execute_result"
    }
   ],
   "source": [
    "kb = FolKB()\n",
    "\n",
    "kb.tell(expr('Human(x) ==> Mortal(x)'))\n",
    "kb.tell(expr('Human(Socrates)'))\n",
    "\n",
    "list(fol_fc_ask(kb, expr('Mortal(x)'))), pl_resolution(kb, expr('Mortal(Socrates)'))"
   ]
  },
  {
   "cell_type": "markdown",
   "id": "db3e2134",
   "metadata": {},
   "source": [
    "## Problem 3 | Proof With First Order Logic\n",
    "The law says that it is a crime for an American to sell weapons to hostile nations. The country Nono, an enemy of America, has some missiles, and all of its missiles were sold to it by Colonel West, who is American."
   ]
  },
  {
   "cell_type": "code",
   "execution_count": 7,
   "id": "c6551f2f",
   "metadata": {},
   "outputs": [],
   "source": [
    "kb = FolKB()\n",
    "\n",
    "# Define the knowledge base\n",
    "kb.tell(expr('American(x) & Weapon(y) & Hostile(z) & Sell(x, y, z) ==> Criminal(x)'))\n",
    "kb.tell(expr('Enemy(Nono, America)'))\n",
    "kb.tell(expr('Missile(A100E)'))\n",
    "kb.tell(expr('Owns(Nono, A100E)'))\n",
    "kb.tell(expr('Missile(x) & Owns(Nono, x) ==> Sell(West, x, Nono)'))\n",
    "kb.tell(expr('American(West)'))\n",
    "# Extract some facts from the knowledge base\n",
    "kb.tell(expr('Missile(x) ==> Weapon(x)'))\n",
    "kb.tell(expr('Enemy(x, America) ==> Hostile(x)'))"
   ]
  },
  {
   "cell_type": "code",
   "execution_count": 8,
   "id": "ec4e2414",
   "metadata": {},
   "outputs": [
    {
     "data": {
      "text/plain": [
       "([{x: Nono}], True)"
      ]
     },
     "execution_count": 8,
     "metadata": {},
     "output_type": "execute_result"
    }
   ],
   "source": [
    "list(fol_fc_ask(kb, expr('Hostile(x)'))), pl_resolution(kb, expr('Hostile(Nono)'))"
   ]
  },
  {
   "cell_type": "code",
   "execution_count": null,
   "id": "11ede643",
   "metadata": {},
   "outputs": [],
   "source": []
  }
 ],
 "metadata": {
  "kernelspec": {
   "display_name": ".venv",
   "language": "python",
   "name": "python3"
  },
  "language_info": {
   "codemirror_mode": {
    "name": "ipython",
    "version": 3
   },
   "file_extension": ".py",
   "mimetype": "text/x-python",
   "name": "python",
   "nbconvert_exporter": "python",
   "pygments_lexer": "ipython3",
   "version": "3.13.1"
  }
 },
 "nbformat": 4,
 "nbformat_minor": 5
}
